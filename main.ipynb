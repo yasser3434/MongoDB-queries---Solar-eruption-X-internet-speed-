{
 "cells": [
  {
   "cell_type": "code",
   "execution_count": 13,
   "metadata": {},
   "outputs": [],
   "source": [
    "from pymongo import MongoClient\n",
    "from pprint import pprint as pp"
   ]
  },
  {
   "cell_type": "code",
   "execution_count": 14,
   "metadata": {},
   "outputs": [],
   "source": [
    "# CONNECT TO DATABASE\n",
    "\n",
    "client = MongoClient('localhost', 27017)\n",
    "db = client['project']"
   ]
  },
  {
   "cell_type": "code",
   "execution_count": 15,
   "metadata": {},
   "outputs": [
    {
     "name": "stdout",
     "output_type": "stream",
     "text": [
      "internetData\n",
      "solarData\n"
     ]
    }
   ],
   "source": [
    "# SHOW COLLECTIONS\n",
    "\n",
    "for collection in db.list_collection_names():\n",
    "    print(collection)"
   ]
  },
  {
   "cell_type": "code",
   "execution_count": 16,
   "metadata": {},
   "outputs": [
    {
     "data": {
      "text/plain": [
       "{'_id': ObjectId('62cb0b1d23802562df01925d'),\n",
       " 'quadkey': 1233001311211132,\n",
       " 'avg_d_kbps': 1366,\n",
       " 'avg_u_kbps': 2670,\n",
       " 'avg_lat_ms': 148,\n",
       " 'tests': 2,\n",
       " 'devices': 1,\n",
       " 'year': '2019',\n",
       " 'quarter': 'Q4'}"
      ]
     },
     "execution_count": 16,
     "metadata": {},
     "output_type": "execute_result"
    }
   ],
   "source": [
    "db.internetData.find_one()"
   ]
  },
  {
   "cell_type": "code",
   "execution_count": 29,
   "metadata": {},
   "outputs": [
    {
     "data": {
      "text/plain": [
       "{'_id': ObjectId('62cb3516d0eb9a592bc06b4e'),\n",
       " '#YYY': 1932.0,\n",
       " 'MM': 1.0,\n",
       " 'DD': 1.0,\n",
       " 'hh.h': 0.0,\n",
       " 'hh._m': 1.5,\n",
       " 'days': 0.0,\n",
       " 'days_m': 0.0625,\n",
       " 'Kp': 3.333,\n",
       " 'ap': 18.0,\n",
       " 'D': 1.0}"
      ]
     },
     "execution_count": 29,
     "metadata": {},
     "output_type": "execute_result"
    }
   ],
   "source": [
    "db.solarData.find_one()"
   ]
  },
  {
   "cell_type": "code",
   "execution_count": null,
   "metadata": {},
   "outputs": [],
   "source": []
  },
  {
   "cell_type": "code",
   "execution_count": 34,
   "metadata": {},
   "outputs": [],
   "source": [
    "def choose_year_quarter():\n",
    "    \n",
    "    year1 = input('PLEASE CHOOSE 1ST YEAR')\n",
    "    mapquarter1  = input('PLEASE CHOOSE 1ST QUARTER')\n",
    "    year2 = input('PLEASE CHOOSE 2ND YEAR')\n",
    "    mapquarter2  = input('PLEASE CHOOSE 2ND QUARTER')\n",
    "\n",
    "    mapyear = {\n",
    "        year1: 51400, # 51080\n",
    "        year2: 84000\n",
    "    }\n",
    "\n",
    "    mapquarter  = {year1: mapquarter1, year2 : mapquarter2}\n",
    "\n",
    "    lesserCounts_test_1 = []\n",
    "\n",
    "\n",
    "    for year, mean in mapyear.items():\n",
    "        lesserCounts_test_1.append(db.internetData.aggregate([ #calcul du nombre de test ayant une avg_d_kbps inférieur au seuil de la moyenne.\n",
    "            {\"$match\": { \"year\":year, \"quarter\": mapquarter[year], \"avg_d_kbps\": {\"$lt\": mean}}},\n",
    "            {\"$group\": {\"_id\": \"$year\", \"count_kbps\": {\"$sum\": 1}}}\n",
    "        ]))\n",
    "        lesserCounts_test_1.append(db.internetData.aggregate([ #calcul du nombre de test ayant une avg_lat_ms supérieur à la moyenne\n",
    "            {\"$match\": { \"year\":year, \"quarter\": mapquarter[year], \"avg_lat_ms\": {\"$gt\": 84}}},\n",
    "            {\"$group\": {\"_id\": \"$year\", \"count_lat\": {\"$sum\": 1}}}\n",
    "        ]))\n",
    "        \n",
    "    for year in lesserCounts_test_1:\n",
    "        for line in year:\n",
    "            print(line)"
   ]
  },
  {
   "cell_type": "code",
   "execution_count": 35,
   "metadata": {},
   "outputs": [
    {
     "name": "stdout",
     "output_type": "stream",
     "text": [
      "{'_id': '2019', 'count_kbps': 4053747}\n",
      "{'_id': '2019', 'count_lat': 314063}\n"
     ]
    }
   ],
   "source": [
    "choose_year_quarter()"
   ]
  },
  {
   "cell_type": "code",
   "execution_count": null,
   "metadata": {},
   "outputs": [],
   "source": []
  },
  {
   "cell_type": "code",
   "execution_count": null,
   "metadata": {},
   "outputs": [],
   "source": [
    "{'_id': '2019', 'count_kbps': 4053747}\n",
    "{'_id': '2019', 'count_lat': 314063}\n",
    "{'_id': '2021', 'count_kbps': 3995067}\n",
    "{'_id': '2021', 'count_lat': 208964}"
   ]
  },
  {
   "cell_type": "markdown",
   "metadata": {},
   "source": [
    "### VERIFIER L'HYPOTHESE"
   ]
  },
  {
   "cell_type": "code",
   "execution_count": 10,
   "metadata": {},
   "outputs": [],
   "source": [
    "mapyear = {\n",
    "    \"2019\": 51400, # 51080\n",
    "    \"2021\": 84000\n",
    "}"
   ]
  },
  {
   "cell_type": "code",
   "execution_count": 11,
   "metadata": {},
   "outputs": [],
   "source": [
    "# TEST 1\n",
    "\n",
    "lesserCounts_test_1 = []\n",
    "mapquarter  = {\"2019\": \"Q4\", \"2021\":\"Q4\"}\n",
    "\n",
    "for year, mean in mapyear.items():\n",
    "    lesserCounts_test_1.append(db.internetData.aggregate([ #calcul du nombre de test ayant une avg_d_kbps inférieur au seuil de la moyenne.\n",
    "        {\"$match\": { \"year\":year, \"quarter\": mapquarter[year], \"avg_d_kbps\": {\"$lt\": mean}}},\n",
    "        {\"$group\": {\"_id\": \"$year\", \"count_kbps\": {\"$sum\": 1}}}\n",
    "    ]))\n",
    "    lesserCounts_test_1.append(db.internetData.aggregate([ #calcul du nombre de test ayant une avg_lat_ms supérieur à la moyenne\n",
    "        {\"$match\": { \"year\":year, \"quarter\": mapquarter[year], \"avg_lat_ms\": {\"$gt\": 84}}},\n",
    "        {\"$group\": {\"_id\": \"$year\", \"count_lat\": {\"$sum\": 1}}}\n",
    "    ]))"
   ]
  },
  {
   "cell_type": "code",
   "execution_count": 8,
   "metadata": {},
   "outputs": [],
   "source": [
    "# TEST 2\n",
    "\n",
    "lesserCounts_test_2 = []\n",
    "mapquarter  = {\"2019\": \"Q2\", \"2021\":\"Q1\"}\n",
    "\n",
    "for year, mean in mapyear.items():\n",
    "    lesserCounts_test_2.append(db.internetData.aggregate([ #calcul du nombre de test ayant une avg_d_kbps inférieur au seuil de la moyenne.\n",
    "        {\"$match\": { \"year\":year, \"quarter\": mapquarter[year], \"avg_d_kbps\": {\"$lt\": mean}}},\n",
    "        {\"$group\": {\"_id\": \"$year\", \"count_kbps\": {\"$sum\": 1}}}\n",
    "    ]))\n",
    "    lesserCounts_test_2.append(db.internetData.aggregate([ #calcul du nombre de test ayant une avg_lat_ms supérieur à la moyenne\n",
    "        {\"$match\": { \"year\":year, \"quarter\": mapquarter[year], \"avg_lat_ms\": {\"$gt\": 84}}},\n",
    "        {\"$group\": {\"_id\": \"$year\", \"count_lat\": {\"$sum\": 1}}}\n",
    "    ]))"
   ]
  },
  {
   "cell_type": "code",
   "execution_count": 21,
   "metadata": {},
   "outputs": [
    {
     "name": "stdout",
     "output_type": "stream",
     "text": [
      "{'_id': '2019', 'count_kbps': 4053747}\n",
      "{'_id': '2019', 'count_lat': 314063}\n",
      "{'_id': '2021', 'count_kbps': 3995067}\n",
      "{'_id': '2021', 'count_lat': 208964}\n"
     ]
    }
   ],
   "source": [
    "for year in lesserCounts_test_1:\n",
    "    for line in year:\n",
    "        print(line)"
   ]
  },
  {
   "cell_type": "code",
   "execution_count": 7,
   "metadata": {},
   "outputs": [
    {
     "name": "stdout",
     "output_type": "stream",
     "text": [
      "{'_id': '2019', 'kbps': 4053747}\n",
      "{'_id': '2019', 'lat': 314063}\n",
      "{'_id': '2021', 'kbps': 3995067}\n",
      "{'_id': '2021', 'lat': 208964}\n"
     ]
    }
   ],
   "source": [
    "for year in lesserCounts_test_1:\n",
    "    for line in year:\n",
    "        print(line)"
   ]
  },
  {
   "cell_type": "markdown",
   "metadata": {},
   "source": [
    "count nb de kbps < moyenne"
   ]
  },
  {
   "cell_type": "code",
   "execution_count": 9,
   "metadata": {},
   "outputs": [
    {
     "name": "stdout",
     "output_type": "stream",
     "text": [
      "{'_id': '2019', 'kbps': 3202613}\n",
      "{'_id': '2019', 'lat': 321742}\n",
      "{'_id': '2021', 'kbps': 5023107}\n",
      "{'_id': '2021', 'lat': 251263}\n"
     ]
    }
   ],
   "source": [
    "for year in lesserCounts_test_2:\n",
    "    for line in year:\n",
    "        print(line)"
   ]
  },
  {
   "cell_type": "code",
   "execution_count": null,
   "metadata": {},
   "outputs": [],
   "source": [
    "{'_id': '2019Q4', 'kpStdDev': 1.014370301957935, 'maxKP': 5.333}\n",
    "{'_id': '2021Q4', 'kpStdDev': 1.2169523948941285, 'maxKP': 7.667}\n",
    "\n",
    "\n",
    "# 2019 -> on prend Q2 avec Kp = 6.333  \n",
    "# 2021 -> on prend Q1 avec Kp = 5.667"
   ]
  },
  {
   "cell_type": "code",
   "execution_count": null,
   "metadata": {},
   "outputs": [],
   "source": []
  },
  {
   "cell_type": "code",
   "execution_count": 8,
   "metadata": {},
   "outputs": [],
   "source": [
    "years = ['2019', '2021']\n",
    "mean_ = []\n",
    "\n",
    "for year in years:\n",
    "    mean_.append(db.internetData.aggregate([\n",
    "                {\"$match\": { \"year\": year}},\n",
    "                {\"$group\": {\"_id\": \"$year\", \"count\": {\"$avg\": \"$avg_d_kbps\"}}}\n",
    "            ]))"
   ]
  },
  {
   "cell_type": "code",
   "execution_count": 9,
   "metadata": {},
   "outputs": [
    {
     "name": "stdout",
     "output_type": "stream",
     "text": [
      "{'_id': '2019', 'count': 55941.952499305815}\n",
      "{'_id': '2021', 'count': 90887.57912566785}\n"
     ]
    }
   ],
   "source": [
    "for line in mean_:\n",
    "    for l in line:\n",
    "        print(l)"
   ]
  },
  {
   "cell_type": "code",
   "execution_count": null,
   "metadata": {},
   "outputs": [],
   "source": []
  },
  {
   "cell_type": "code",
   "execution_count": 11,
   "metadata": {},
   "outputs": [
    {
     "name": "stdout",
     "output_type": "stream",
     "text": [
      " \n",
      "{'_id': '2018Q1', 'kpStdDev': 1.1138559006376263, 'maxKP': 6.0}\n",
      "{'_id': '2018Q2', 'kpStdDev': 1.130007554356315, 'maxKP': 6.0}\n",
      "{'_id': '2018Q3', 'kpStdDev': 1.1283575146673, 'maxKP': 7.333}\n",
      "{'_id': '2018Q4', 'kpStdDev': 1.1196041741363634, 'maxKP': 5.667}\n",
      " \n",
      "{'_id': '2019Q1', 'kpStdDev': 1.107465812686389, 'maxKP': 5.333}\n",
      "{'_id': '2019Q2', 'kpStdDev': 0.9531569363219395, 'maxKP': 6.333}\n",
      "{'_id': '2019Q3', 'kpStdDev': 1.1097021781372693, 'maxKP': 5.667}\n",
      "{'_id': '2019Q4', 'kpStdDev': 1.014370301957935, 'maxKP': 5.333}\n",
      " \n",
      "{'_id': '2020Q1', 'kpStdDev': 0.9468942338712437, 'maxKP': 4.333}\n",
      "{'_id': '2020Q2', 'kpStdDev': 0.7885328735037124, 'maxKP': 4.667}\n",
      "{'_id': '2020Q3', 'kpStdDev': 1.0968653644796296, 'maxKP': 5.667}\n",
      "{'_id': '2020Q4', 'kpStdDev': 1.0344010510712278, 'maxKP': 4.667}\n",
      " \n",
      "{'_id': '2021Q1', 'kpStdDev': 1.2921783578386619, 'maxKP': 5.667}\n",
      "{'_id': '2021Q2', 'kpStdDev': 1.110008277490653, 'maxKP': 7.0}\n",
      "{'_id': '2021Q3', 'kpStdDev': 0.9568817691776172, 'maxKP': 5.333}\n",
      "{'_id': '2021Q4', 'kpStdDev': 1.2169523948941285, 'maxKP': 7.667}\n"
     ]
    }
   ],
   "source": [
    "et = []\n",
    "\n",
    "for y in range(2018,2022):\n",
    "    for q in range(1,5):\n",
    "        et.append(db.solarData.aggregate([\n",
    "            {\"$match\": {\"#YYY\": y, \"MM\": {\"$gte\": q*3-2, \"$lte\": q*3}}},\n",
    "            {\"$group\": {\"_id\": str(y)+\"Q\"+str(q), \"kpStdDev\": {\"$stdDevSamp\": \"$Kp\"}, \"maxKP\": {\"$max\": \"$Kp\"}}}\n",
    "        ]))\n",
    "\n",
    "cpt=0\n",
    "for year in et:\n",
    "    if cpt%4 == 0:\n",
    "        print(\" \")\n",
    "    for line in year:\n",
    "        print(line)\n",
    "    cpt+=1"
   ]
  },
  {
   "cell_type": "code",
   "execution_count": 12,
   "metadata": {},
   "outputs": [],
   "source": [
    "# 2019 -> on prend Q2 avec Kp = 6.333  \n",
    "# 2021 -> on prend Q1 avec Kp = 5.667"
   ]
  },
  {
   "cell_type": "code",
   "execution_count": null,
   "metadata": {},
   "outputs": [],
   "source": []
  },
  {
   "cell_type": "code",
   "execution_count": null,
   "metadata": {},
   "outputs": [],
   "source": []
  }
 ],
 "metadata": {
  "kernelspec": {
   "display_name": "Python 3.9.7 64-bit",
   "language": "python",
   "name": "python3"
  },
  "language_info": {
   "codemirror_mode": {
    "name": "ipython",
    "version": 3
   },
   "file_extension": ".py",
   "mimetype": "text/x-python",
   "name": "python",
   "nbconvert_exporter": "python",
   "pygments_lexer": "ipython3",
   "version": "3.9.7"
  },
  "orig_nbformat": 4,
  "vscode": {
   "interpreter": {
    "hash": "4f58af7b3695201df0b4d01d2970eb15c6a084c1ad11c9268b240ea3e6dcf4ce"
   }
  }
 },
 "nbformat": 4,
 "nbformat_minor": 2
}
