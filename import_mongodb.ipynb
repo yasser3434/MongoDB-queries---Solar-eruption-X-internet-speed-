{
 "cells": [
  {
   "cell_type": "code",
   "execution_count": 2,
   "metadata": {},
   "outputs": [],
   "source": [
    "import pandas as pd\n",
    "from pymongo import MongoClient\n",
    "import json\n",
    "from simpledbf import Dbf5"
   ]
  },
  {
   "cell_type": "markdown",
   "metadata": {},
   "source": [
    "### LINKS TO DATASETS"
   ]
  },
  {
   "cell_type": "markdown",
   "metadata": {},
   "source": [
    "https://www.kaggle.com/datasets/dhruvildave/ookla-internet-speed-dataset"
   ]
  },
  {
   "cell_type": "markdown",
   "metadata": {},
   "source": [
    "https://www-app3.gfz-potsdam.de/kp_index/Kp_ap_since_1932.txt"
   ]
  },
  {
   "cell_type": "code",
   "execution_count": null,
   "metadata": {},
   "outputs": [],
   "source": []
  },
  {
   "cell_type": "markdown",
   "metadata": {},
   "source": [
    "### SOLAR DATA"
   ]
  },
  {
   "cell_type": "code",
   "execution_count": 6,
   "metadata": {},
   "outputs": [
    {
     "data": {
      "text/html": [
       "<div>\n",
       "<style scoped>\n",
       "    .dataframe tbody tr th:only-of-type {\n",
       "        vertical-align: middle;\n",
       "    }\n",
       "\n",
       "    .dataframe tbody tr th {\n",
       "        vertical-align: top;\n",
       "    }\n",
       "\n",
       "    .dataframe thead th {\n",
       "        text-align: right;\n",
       "    }\n",
       "</style>\n",
       "<table border=\"1\" class=\"dataframe\">\n",
       "  <thead>\n",
       "    <tr style=\"text-align: right;\">\n",
       "      <th></th>\n",
       "      <th>#YYY</th>\n",
       "      <th>MM</th>\n",
       "      <th>DD</th>\n",
       "      <th>hh.h</th>\n",
       "      <th>hh._m</th>\n",
       "      <th>days</th>\n",
       "      <th>days_m</th>\n",
       "      <th>Kp</th>\n",
       "      <th>ap</th>\n",
       "      <th>D</th>\n",
       "    </tr>\n",
       "  </thead>\n",
       "  <tbody>\n",
       "    <tr>\n",
       "      <th>0</th>\n",
       "      <td>1932</td>\n",
       "      <td>1</td>\n",
       "      <td>1</td>\n",
       "      <td>0.0</td>\n",
       "      <td>1.5</td>\n",
       "      <td>0.000</td>\n",
       "      <td>0.0625</td>\n",
       "      <td>3.333</td>\n",
       "      <td>18</td>\n",
       "      <td>1</td>\n",
       "    </tr>\n",
       "    <tr>\n",
       "      <th>1</th>\n",
       "      <td>1932</td>\n",
       "      <td>1</td>\n",
       "      <td>1</td>\n",
       "      <td>3.0</td>\n",
       "      <td>4.5</td>\n",
       "      <td>0.125</td>\n",
       "      <td>0.1875</td>\n",
       "      <td>2.667</td>\n",
       "      <td>12</td>\n",
       "      <td>1</td>\n",
       "    </tr>\n",
       "    <tr>\n",
       "      <th>2</th>\n",
       "      <td>1932</td>\n",
       "      <td>1</td>\n",
       "      <td>1</td>\n",
       "      <td>6.0</td>\n",
       "      <td>7.5</td>\n",
       "      <td>0.250</td>\n",
       "      <td>0.3125</td>\n",
       "      <td>2.333</td>\n",
       "      <td>9</td>\n",
       "      <td>1</td>\n",
       "    </tr>\n",
       "    <tr>\n",
       "      <th>3</th>\n",
       "      <td>1932</td>\n",
       "      <td>1</td>\n",
       "      <td>1</td>\n",
       "      <td>9.0</td>\n",
       "      <td>10.5</td>\n",
       "      <td>0.375</td>\n",
       "      <td>0.4375</td>\n",
       "      <td>2.667</td>\n",
       "      <td>12</td>\n",
       "      <td>1</td>\n",
       "    </tr>\n",
       "    <tr>\n",
       "      <th>4</th>\n",
       "      <td>1932</td>\n",
       "      <td>1</td>\n",
       "      <td>1</td>\n",
       "      <td>12.0</td>\n",
       "      <td>13.5</td>\n",
       "      <td>0.500</td>\n",
       "      <td>0.5625</td>\n",
       "      <td>3.333</td>\n",
       "      <td>18</td>\n",
       "      <td>1</td>\n",
       "    </tr>\n",
       "    <tr>\n",
       "      <th>...</th>\n",
       "      <td>...</td>\n",
       "      <td>...</td>\n",
       "      <td>...</td>\n",
       "      <td>...</td>\n",
       "      <td>...</td>\n",
       "      <td>...</td>\n",
       "      <td>...</td>\n",
       "      <td>...</td>\n",
       "      <td>...</td>\n",
       "      <td>...</td>\n",
       "    </tr>\n",
       "    <tr>\n",
       "      <th>264451</th>\n",
       "      <td>2022</td>\n",
       "      <td>7</td>\n",
       "      <td>3</td>\n",
       "      <td>9.0</td>\n",
       "      <td>10.5</td>\n",
       "      <td>56.375</td>\n",
       "      <td>56.4375</td>\n",
       "      <td>1.333</td>\n",
       "      <td>5</td>\n",
       "      <td>0</td>\n",
       "    </tr>\n",
       "    <tr>\n",
       "      <th>264452</th>\n",
       "      <td>2022</td>\n",
       "      <td>7</td>\n",
       "      <td>3</td>\n",
       "      <td>12.0</td>\n",
       "      <td>13.5</td>\n",
       "      <td>56.500</td>\n",
       "      <td>56.5625</td>\n",
       "      <td>1.667</td>\n",
       "      <td>6</td>\n",
       "      <td>0</td>\n",
       "    </tr>\n",
       "    <tr>\n",
       "      <th>264453</th>\n",
       "      <td>2022</td>\n",
       "      <td>7</td>\n",
       "      <td>3</td>\n",
       "      <td>15.0</td>\n",
       "      <td>16.5</td>\n",
       "      <td>56.625</td>\n",
       "      <td>56.6875</td>\n",
       "      <td>1.000</td>\n",
       "      <td>-1</td>\n",
       "      <td>0</td>\n",
       "    </tr>\n",
       "    <tr>\n",
       "      <th>264454</th>\n",
       "      <td>2022</td>\n",
       "      <td>7</td>\n",
       "      <td>3</td>\n",
       "      <td>18.0</td>\n",
       "      <td>19.5</td>\n",
       "      <td>56.750</td>\n",
       "      <td>56.8125</td>\n",
       "      <td>1.000</td>\n",
       "      <td>-1</td>\n",
       "      <td>0</td>\n",
       "    </tr>\n",
       "    <tr>\n",
       "      <th>264455</th>\n",
       "      <td>2022</td>\n",
       "      <td>7</td>\n",
       "      <td>3</td>\n",
       "      <td>21.0</td>\n",
       "      <td>22.5</td>\n",
       "      <td>56.875</td>\n",
       "      <td>56.9375</td>\n",
       "      <td>1.000</td>\n",
       "      <td>-1</td>\n",
       "      <td>0</td>\n",
       "    </tr>\n",
       "  </tbody>\n",
       "</table>\n",
       "<p>264456 rows × 10 columns</p>\n",
       "</div>"
      ],
      "text/plain": [
       "        #YYY  MM  DD  hh.h  hh._m    days   days_m     Kp  ap  D\n",
       "0       1932   1   1   0.0    1.5   0.000   0.0625  3.333  18  1\n",
       "1       1932   1   1   3.0    4.5   0.125   0.1875  2.667  12  1\n",
       "2       1932   1   1   6.0    7.5   0.250   0.3125  2.333   9  1\n",
       "3       1932   1   1   9.0   10.5   0.375   0.4375  2.667  12  1\n",
       "4       1932   1   1  12.0   13.5   0.500   0.5625  3.333  18  1\n",
       "...      ...  ..  ..   ...    ...     ...      ...    ...  .. ..\n",
       "264451  2022   7   3   9.0   10.5  56.375  56.4375  1.333   5  0\n",
       "264452  2022   7   3  12.0   13.5  56.500  56.5625  1.667   6  0\n",
       "264453  2022   7   3  15.0   16.5  56.625  56.6875  1.000  -1  0\n",
       "264454  2022   7   3  18.0   19.5  56.750  56.8125  1.000  -1  0\n",
       "264455  2022   7   3  21.0   22.5  56.875  56.9375  1.000  -1  0\n",
       "\n",
       "[264456 rows x 10 columns]"
      ]
     },
     "execution_count": 6,
     "metadata": {},
     "output_type": "execute_result"
    }
   ],
   "source": [
    "df = pd.read_csv('/home/yasser/Desktop/mongodb/data/kpdata/data_mongodb.csv')\n",
    "df"
   ]
  },
  {
   "cell_type": "code",
   "execution_count": 3,
   "metadata": {},
   "outputs": [],
   "source": [
    "client = MongoClient('localhost', 27017)\n",
    "db = client['project']"
   ]
  },
  {
   "cell_type": "code",
   "execution_count": 4,
   "metadata": {},
   "outputs": [
    {
     "name": "stdout",
     "output_type": "stream",
     "text": [
      "internetData\n",
      "solarData\n"
     ]
    }
   ],
   "source": [
    "# show collections\n",
    "\n",
    "for collection in db.list_collection_names():\n",
    "    print(collection)"
   ]
  },
  {
   "cell_type": "code",
   "execution_count": 9,
   "metadata": {},
   "outputs": [],
   "source": [
    "# TRANSFORM TO JSON\n",
    "\n",
    "records = json.loads(df.T.to_json()).values()"
   ]
  },
  {
   "cell_type": "code",
   "execution_count": 10,
   "metadata": {},
   "outputs": [
    {
     "data": {
      "text/plain": [
       "<pymongo.results.InsertManyResult at 0x7fe094a4f9a0>"
      ]
     },
     "execution_count": 10,
     "metadata": {},
     "output_type": "execute_result"
    }
   ],
   "source": [
    "# INSERT DATA\n",
    "\n",
    "db.solarData.insert_many(records)"
   ]
  },
  {
   "cell_type": "code",
   "execution_count": 11,
   "metadata": {},
   "outputs": [
    {
     "name": "stdout",
     "output_type": "stream",
     "text": [
      "internetData\n",
      "solarData\n"
     ]
    }
   ],
   "source": [
    "# show collections\n",
    "\n",
    "for collection in db.list_collection_names():\n",
    "    print(collection)"
   ]
  },
  {
   "cell_type": "code",
   "execution_count": 12,
   "metadata": {},
   "outputs": [
    {
     "name": "stdout",
     "output_type": "stream",
     "text": [
      "{'_id': ObjectId('62cb3516d0eb9a592bc06b4e'), '#YYY': 1932.0, 'MM': 1.0, 'DD': 1.0, 'hh.h': 0.0, 'hh._m': 1.5, 'days': 0.0, 'days_m': 0.0625, 'Kp': 3.333, 'ap': 18.0, 'D': 1.0}\n",
      "{'_id': ObjectId('62cb3516d0eb9a592bc06b4f'), '#YYY': 1932.0, 'MM': 1.0, 'DD': 1.0, 'hh.h': 3.0, 'hh._m': 4.5, 'days': 0.125, 'days_m': 0.1875, 'Kp': 2.667, 'ap': 12.0, 'D': 1.0}\n",
      "{'_id': ObjectId('62cb3516d0eb9a592bc06b50'), '#YYY': 1932.0, 'MM': 1.0, 'DD': 1.0, 'hh.h': 6.0, 'hh._m': 7.5, 'days': 0.25, 'days_m': 0.3125, 'Kp': 2.333, 'ap': 9.0, 'D': 1.0}\n",
      "{'_id': ObjectId('62cb3516d0eb9a592bc06b51'), '#YYY': 1932.0, 'MM': 1.0, 'DD': 1.0, 'hh.h': 9.0, 'hh._m': 10.5, 'days': 0.375, 'days_m': 0.4375, 'Kp': 2.667, 'ap': 12.0, 'D': 1.0}\n",
      "{'_id': ObjectId('62cb3516d0eb9a592bc06b52'), '#YYY': 1932.0, 'MM': 1.0, 'DD': 1.0, 'hh.h': 12.0, 'hh._m': 13.5, 'days': 0.5, 'days_m': 0.5625, 'Kp': 3.333, 'ap': 18.0, 'D': 1.0}\n",
      "{'_id': ObjectId('62cb3516d0eb9a592bc06b53'), '#YYY': 1932.0, 'MM': 1.0, 'DD': 1.0, 'hh.h': 15.0, 'hh._m': 16.5, 'days': 0.625, 'days_m': 0.6875, 'Kp': 2.667, 'ap': 12.0, 'D': 1.0}\n",
      "{'_id': ObjectId('62cb3516d0eb9a592bc06b54'), '#YYY': 1932.0, 'MM': 1.0, 'DD': 1.0, 'hh.h': 18.0, 'hh._m': 19.5, 'days': 0.75, 'days_m': 0.8125, 'Kp': 3.333, 'ap': 18.0, 'D': 1.0}\n",
      "{'_id': ObjectId('62cb3516d0eb9a592bc06b55'), '#YYY': 1932.0, 'MM': 1.0, 'DD': 1.0, 'hh.h': 21.0, 'hh._m': 22.5, 'days': 0.875, 'days_m': 0.9375, 'Kp': 3.333, 'ap': 18.0, 'D': 1.0}\n",
      "{'_id': ObjectId('62cb3516d0eb9a592bc06b56'), '#YYY': 1932.0, 'MM': 1.0, 'DD': 2.0, 'hh.h': 0.0, 'hh._m': 1.5, 'days': 1.0, 'days_m': 1.0625, 'Kp': 3.667, 'ap': 22.0, 'D': 1.0}\n",
      "{'_id': ObjectId('62cb3516d0eb9a592bc06b57'), '#YYY': 1932.0, 'MM': 1.0, 'DD': 2.0, 'hh.h': 3.0, 'hh._m': 4.5, 'days': 1.125, 'days_m': 1.1875, 'Kp': 3.667, 'ap': 22.0, 'D': 1.0}\n"
     ]
    }
   ],
   "source": [
    "for i in db.solarData.find()[:10]:\n",
    "    print(i)"
   ]
  },
  {
   "cell_type": "code",
   "execution_count": null,
   "metadata": {},
   "outputs": [],
   "source": []
  },
  {
   "cell_type": "markdown",
   "metadata": {},
   "source": [
    "### INTERNET_DATA COLLECTION"
   ]
  },
  {
   "cell_type": "markdown",
   "metadata": {},
   "source": [
    "### 2019"
   ]
  },
  {
   "cell_type": "markdown",
   "metadata": {},
   "source": [
    "### Q4"
   ]
  },
  {
   "cell_type": "code",
   "execution_count": null,
   "metadata": {},
   "outputs": [],
   "source": [
    "dbf = Dbf5('/home/yasser/Desktop/mongodb/data/internet_data/2019_Q4/gps_fixed_tiles.dbf')\n",
    "df = dbf.to_dataframe()\n",
    "df"
   ]
  },
  {
   "cell_type": "code",
   "execution_count": null,
   "metadata": {},
   "outputs": [
    {
     "data": {
      "text/html": [
       "<div>\n",
       "<style scoped>\n",
       "    .dataframe tbody tr th:only-of-type {\n",
       "        vertical-align: middle;\n",
       "    }\n",
       "\n",
       "    .dataframe tbody tr th {\n",
       "        vertical-align: top;\n",
       "    }\n",
       "\n",
       "    .dataframe thead th {\n",
       "        text-align: right;\n",
       "    }\n",
       "</style>\n",
       "<table border=\"1\" class=\"dataframe\">\n",
       "  <thead>\n",
       "    <tr style=\"text-align: right;\">\n",
       "      <th></th>\n",
       "      <th>quadkey</th>\n",
       "      <th>avg_d_kbps</th>\n",
       "      <th>avg_u_kbps</th>\n",
       "      <th>avg_lat_ms</th>\n",
       "      <th>tests</th>\n",
       "      <th>devices</th>\n",
       "    </tr>\n",
       "  </thead>\n",
       "  <tbody>\n",
       "    <tr>\n",
       "      <th>0</th>\n",
       "      <td>1233001311211132</td>\n",
       "      <td>1366</td>\n",
       "      <td>2670</td>\n",
       "      <td>148</td>\n",
       "      <td>2</td>\n",
       "      <td>1</td>\n",
       "    </tr>\n",
       "    <tr>\n",
       "      <th>1</th>\n",
       "      <td>302233203001130</td>\n",
       "      <td>66841</td>\n",
       "      <td>14428</td>\n",
       "      <td>16</td>\n",
       "      <td>9</td>\n",
       "      <td>7</td>\n",
       "    </tr>\n",
       "    <tr>\n",
       "      <th>2</th>\n",
       "      <td>1202331003213123</td>\n",
       "      <td>29640</td>\n",
       "      <td>8188</td>\n",
       "      <td>11</td>\n",
       "      <td>73</td>\n",
       "      <td>18</td>\n",
       "    </tr>\n",
       "    <tr>\n",
       "      <th>3</th>\n",
       "      <td>1202222203310201</td>\n",
       "      <td>87822</td>\n",
       "      <td>72288</td>\n",
       "      <td>16</td>\n",
       "      <td>145</td>\n",
       "      <td>50</td>\n",
       "    </tr>\n",
       "    <tr>\n",
       "      <th>4</th>\n",
       "      <td>1230231321100322</td>\n",
       "      <td>81507</td>\n",
       "      <td>36989</td>\n",
       "      <td>7</td>\n",
       "      <td>329</td>\n",
       "      <td>75</td>\n",
       "    </tr>\n",
       "    <tr>\n",
       "      <th>...</th>\n",
       "      <td>...</td>\n",
       "      <td>...</td>\n",
       "      <td>...</td>\n",
       "      <td>...</td>\n",
       "      <td>...</td>\n",
       "      <td>...</td>\n",
       "    </tr>\n",
       "    <tr>\n",
       "      <th>6497473</th>\n",
       "      <td>1202020322122322</td>\n",
       "      <td>5457</td>\n",
       "      <td>800</td>\n",
       "      <td>57</td>\n",
       "      <td>1</td>\n",
       "      <td>1</td>\n",
       "    </tr>\n",
       "    <tr>\n",
       "      <th>6497474</th>\n",
       "      <td>2103111033101131</td>\n",
       "      <td>2960</td>\n",
       "      <td>2093</td>\n",
       "      <td>131</td>\n",
       "      <td>5</td>\n",
       "      <td>1</td>\n",
       "    </tr>\n",
       "    <tr>\n",
       "      <th>6497475</th>\n",
       "      <td>213003300102303</td>\n",
       "      <td>19776</td>\n",
       "      <td>4021</td>\n",
       "      <td>47</td>\n",
       "      <td>1</td>\n",
       "      <td>1</td>\n",
       "    </tr>\n",
       "    <tr>\n",
       "      <th>6497476</th>\n",
       "      <td>1202302122323211</td>\n",
       "      <td>6808</td>\n",
       "      <td>805</td>\n",
       "      <td>35</td>\n",
       "      <td>1</td>\n",
       "      <td>1</td>\n",
       "    </tr>\n",
       "    <tr>\n",
       "      <th>6497477</th>\n",
       "      <td>1320322132203321</td>\n",
       "      <td>38436</td>\n",
       "      <td>26346</td>\n",
       "      <td>26</td>\n",
       "      <td>5</td>\n",
       "      <td>1</td>\n",
       "    </tr>\n",
       "  </tbody>\n",
       "</table>\n",
       "<p>6497478 rows × 6 columns</p>\n",
       "</div>"
      ],
      "text/plain": [
       "                  quadkey  avg_d_kbps  avg_u_kbps  avg_lat_ms  tests  devices\n",
       "0        1233001311211132        1366        2670         148      2        1\n",
       "1         302233203001130       66841       14428          16      9        7\n",
       "2        1202331003213123       29640        8188          11     73       18\n",
       "3        1202222203310201       87822       72288          16    145       50\n",
       "4        1230231321100322       81507       36989           7    329       75\n",
       "...                   ...         ...         ...         ...    ...      ...\n",
       "6497473  1202020322122322        5457         800          57      1        1\n",
       "6497474  2103111033101131        2960        2093         131      5        1\n",
       "6497475   213003300102303       19776        4021          47      1        1\n",
       "6497476  1202302122323211        6808         805          35      1        1\n",
       "6497477  1320322132203321       38436       26346          26      5        1\n",
       "\n",
       "[6497478 rows x 6 columns]"
      ]
     },
     "metadata": {},
     "output_type": "display_data"
    }
   ],
   "source": [
    "df = pd.read_csv('/home/yasser/Desktop/mongodb/data/internet_data/2019_Q4/gps_fixed_tiles.csv')\n",
    "df"
   ]
  },
  {
   "cell_type": "code",
   "execution_count": null,
   "metadata": {},
   "outputs": [
    {
     "data": {
      "text/html": [
       "<div>\n",
       "<style scoped>\n",
       "    .dataframe tbody tr th:only-of-type {\n",
       "        vertical-align: middle;\n",
       "    }\n",
       "\n",
       "    .dataframe tbody tr th {\n",
       "        vertical-align: top;\n",
       "    }\n",
       "\n",
       "    .dataframe thead th {\n",
       "        text-align: right;\n",
       "    }\n",
       "</style>\n",
       "<table border=\"1\" class=\"dataframe\">\n",
       "  <thead>\n",
       "    <tr style=\"text-align: right;\">\n",
       "      <th></th>\n",
       "      <th>quadkey</th>\n",
       "      <th>avg_d_kbps</th>\n",
       "      <th>avg_u_kbps</th>\n",
       "      <th>avg_lat_ms</th>\n",
       "      <th>tests</th>\n",
       "      <th>devices</th>\n",
       "      <th>year</th>\n",
       "      <th>quarter</th>\n",
       "    </tr>\n",
       "  </thead>\n",
       "  <tbody>\n",
       "    <tr>\n",
       "      <th>0</th>\n",
       "      <td>1233001311211132</td>\n",
       "      <td>1366</td>\n",
       "      <td>2670</td>\n",
       "      <td>148</td>\n",
       "      <td>2</td>\n",
       "      <td>1</td>\n",
       "      <td>2019</td>\n",
       "      <td>Q4</td>\n",
       "    </tr>\n",
       "    <tr>\n",
       "      <th>1</th>\n",
       "      <td>302233203001130</td>\n",
       "      <td>66841</td>\n",
       "      <td>14428</td>\n",
       "      <td>16</td>\n",
       "      <td>9</td>\n",
       "      <td>7</td>\n",
       "      <td>2019</td>\n",
       "      <td>Q4</td>\n",
       "    </tr>\n",
       "    <tr>\n",
       "      <th>2</th>\n",
       "      <td>1202331003213123</td>\n",
       "      <td>29640</td>\n",
       "      <td>8188</td>\n",
       "      <td>11</td>\n",
       "      <td>73</td>\n",
       "      <td>18</td>\n",
       "      <td>2019</td>\n",
       "      <td>Q4</td>\n",
       "    </tr>\n",
       "    <tr>\n",
       "      <th>3</th>\n",
       "      <td>1202222203310201</td>\n",
       "      <td>87822</td>\n",
       "      <td>72288</td>\n",
       "      <td>16</td>\n",
       "      <td>145</td>\n",
       "      <td>50</td>\n",
       "      <td>2019</td>\n",
       "      <td>Q4</td>\n",
       "    </tr>\n",
       "    <tr>\n",
       "      <th>4</th>\n",
       "      <td>1230231321100322</td>\n",
       "      <td>81507</td>\n",
       "      <td>36989</td>\n",
       "      <td>7</td>\n",
       "      <td>329</td>\n",
       "      <td>75</td>\n",
       "      <td>2019</td>\n",
       "      <td>Q4</td>\n",
       "    </tr>\n",
       "  </tbody>\n",
       "</table>\n",
       "</div>"
      ],
      "text/plain": [
       "            quadkey  avg_d_kbps  avg_u_kbps  avg_lat_ms  tests  devices  year  \\\n",
       "0  1233001311211132        1366        2670         148      2        1  2019   \n",
       "1   302233203001130       66841       14428          16      9        7  2019   \n",
       "2  1202331003213123       29640        8188          11     73       18  2019   \n",
       "3  1202222203310201       87822       72288          16    145       50  2019   \n",
       "4  1230231321100322       81507       36989           7    329       75  2019   \n",
       "\n",
       "  quarter  \n",
       "0      Q4  \n",
       "1      Q4  \n",
       "2      Q4  \n",
       "3      Q4  \n",
       "4      Q4  "
      ]
     },
     "metadata": {},
     "output_type": "display_data"
    }
   ],
   "source": [
    "df[\"year\"] = \"2019\"\n",
    "df[\"quarter\"] = \"Q4\"\n",
    "df.head()"
   ]
  },
  {
   "cell_type": "code",
   "execution_count": 4,
   "metadata": {},
   "outputs": [],
   "source": [
    "client = MongoClient('localhost', 27017)\n",
    "db = client['project']"
   ]
  },
  {
   "cell_type": "code",
   "execution_count": null,
   "metadata": {},
   "outputs": [
    {
     "name": "stdout",
     "output_type": "stream",
     "text": [
      "internetData\n",
      "kpdata\n"
     ]
    }
   ],
   "source": [
    "# show collections\n",
    "\n",
    "for collection in db.list_collection_names():\n",
    "    print(collection)"
   ]
  },
  {
   "cell_type": "code",
   "execution_count": null,
   "metadata": {},
   "outputs": [],
   "source": [
    "# Create a new collection\n",
    "\n",
    "internetData = db.internetData"
   ]
  },
  {
   "cell_type": "code",
   "execution_count": null,
   "metadata": {},
   "outputs": [],
   "source": [
    "records = json.loads(df.T.to_json()).values()"
   ]
  },
  {
   "cell_type": "code",
   "execution_count": null,
   "metadata": {},
   "outputs": [
    {
     "data": {
      "text/plain": [
       "<pymongo.results.InsertManyResult at 0x7faf306c5fd0>"
      ]
     },
     "metadata": {},
     "output_type": "display_data"
    }
   ],
   "source": [
    "# INSERT DATA\n",
    "\n",
    "db.internetData.insert_many(records)"
   ]
  },
  {
   "cell_type": "code",
   "execution_count": null,
   "metadata": {},
   "outputs": [
    {
     "name": "stdout",
     "output_type": "stream",
     "text": [
      "internetData\n",
      "kpdata\n"
     ]
    }
   ],
   "source": [
    "# show collections\n",
    "\n",
    "for collection in db.list_collection_names():\n",
    "    print(collection)"
   ]
  },
  {
   "cell_type": "code",
   "execution_count": null,
   "metadata": {},
   "outputs": [
    {
     "name": "stdout",
     "output_type": "stream",
     "text": [
      "{'_id': ObjectId('62cb0b1d23802562df01925d'), 'quadkey': 1233001311211132, 'avg_d_kbps': 1366, 'avg_u_kbps': 2670, 'avg_lat_ms': 148, 'tests': 2, 'devices': 1, 'year': '2019', 'quarter': 'Q4'}\n",
      "{'_id': ObjectId('62cb0b1d23802562df01925e'), 'quadkey': 302233203001130, 'avg_d_kbps': 66841, 'avg_u_kbps': 14428, 'avg_lat_ms': 16, 'tests': 9, 'devices': 7, 'year': '2019', 'quarter': 'Q4'}\n",
      "{'_id': ObjectId('62cb0b1d23802562df01925f'), 'quadkey': 1202331003213123, 'avg_d_kbps': 29640, 'avg_u_kbps': 8188, 'avg_lat_ms': 11, 'tests': 73, 'devices': 18, 'year': '2019', 'quarter': 'Q4'}\n",
      "{'_id': ObjectId('62cb0b1d23802562df019260'), 'quadkey': 1202222203310201, 'avg_d_kbps': 87822, 'avg_u_kbps': 72288, 'avg_lat_ms': 16, 'tests': 145, 'devices': 50, 'year': '2019', 'quarter': 'Q4'}\n",
      "{'_id': ObjectId('62cb0b1d23802562df019261'), 'quadkey': 1230231321100322, 'avg_d_kbps': 81507, 'avg_u_kbps': 36989, 'avg_lat_ms': 7, 'tests': 329, 'devices': 75, 'year': '2019', 'quarter': 'Q4'}\n",
      "{'_id': ObjectId('62cb0b1d23802562df019262'), 'quadkey': 313131132333211, 'avg_d_kbps': 88027, 'avg_u_kbps': 14570, 'avg_lat_ms': 15, 'tests': 132, 'devices': 29, 'year': '2019', 'quarter': 'Q4'}\n",
      "{'_id': ObjectId('62cb0b1d23802562df019263'), 'quadkey': 1212011313021021, 'avg_d_kbps': 52635, 'avg_u_kbps': 70367, 'avg_lat_ms': 4, 'tests': 45, 'devices': 11, 'year': '2019', 'quarter': 'Q4'}\n",
      "{'_id': ObjectId('62cb0b1d23802562df019264'), 'quadkey': 1322101132232101, 'avg_d_kbps': 28434, 'avg_u_kbps': 30454, 'avg_lat_ms': 7, 'tests': 2, 'devices': 2, 'year': '2019', 'quarter': 'Q4'}\n",
      "{'_id': ObjectId('62cb0b1d23802562df019265'), 'quadkey': 2110012030231232, 'avg_d_kbps': 31759, 'avg_u_kbps': 26507, 'avg_lat_ms': 8, 'tests': 761, 'devices': 128, 'year': '2019', 'quarter': 'Q4'}\n",
      "{'_id': ObjectId('62cb0b1d23802562df019266'), 'quadkey': 233100032212231, 'avg_d_kbps': 35125, 'avg_u_kbps': 12790, 'avg_lat_ms': 29, 'tests': 332, 'devices': 39, 'year': '2019', 'quarter': 'Q4'}\n"
     ]
    }
   ],
   "source": [
    "for i in db.internetData.find()[:10]:\n",
    "    print(i)"
   ]
  },
  {
   "cell_type": "code",
   "execution_count": null,
   "metadata": {},
   "outputs": [],
   "source": []
  },
  {
   "cell_type": "markdown",
   "metadata": {},
   "source": [
    "### Q2"
   ]
  },
  {
   "cell_type": "code",
   "execution_count": 5,
   "metadata": {},
   "outputs": [],
   "source": [
    "# dbf = Dbf5('/home/yasser/Desktop/mongodb/data/internet_data/2019/Q2/gps_fixed_tiles.dbf')\n",
    "# df = dbf.to_dataframe()"
   ]
  },
  {
   "cell_type": "code",
   "execution_count": 3,
   "metadata": {},
   "outputs": [],
   "source": [
    "# df.to_csv('/home/yasser/Desktop/mongodb/data/internet_data/2019/Q2/gps_fixed_tiles.csv')"
   ]
  },
  {
   "cell_type": "code",
   "execution_count": 4,
   "metadata": {},
   "outputs": [],
   "source": [
    "# del(df)"
   ]
  },
  {
   "cell_type": "code",
   "execution_count": 13,
   "metadata": {},
   "outputs": [
    {
     "data": {
      "text/html": [
       "<div>\n",
       "<style scoped>\n",
       "    .dataframe tbody tr th:only-of-type {\n",
       "        vertical-align: middle;\n",
       "    }\n",
       "\n",
       "    .dataframe tbody tr th {\n",
       "        vertical-align: top;\n",
       "    }\n",
       "\n",
       "    .dataframe thead th {\n",
       "        text-align: right;\n",
       "    }\n",
       "</style>\n",
       "<table border=\"1\" class=\"dataframe\">\n",
       "  <thead>\n",
       "    <tr style=\"text-align: right;\">\n",
       "      <th></th>\n",
       "      <th>Unnamed: 0</th>\n",
       "      <th>quadkey</th>\n",
       "      <th>avg_d_kbps</th>\n",
       "      <th>avg_u_kbps</th>\n",
       "      <th>avg_lat_ms</th>\n",
       "      <th>tests</th>\n",
       "      <th>devices</th>\n",
       "    </tr>\n",
       "  </thead>\n",
       "  <tbody>\n",
       "    <tr>\n",
       "      <th>0</th>\n",
       "      <td>0</td>\n",
       "      <td>3112231122203110</td>\n",
       "      <td>37621</td>\n",
       "      <td>18081</td>\n",
       "      <td>13</td>\n",
       "      <td>105</td>\n",
       "      <td>35</td>\n",
       "    </tr>\n",
       "    <tr>\n",
       "      <th>1</th>\n",
       "      <td>1</td>\n",
       "      <td>231123033301330</td>\n",
       "      <td>165881</td>\n",
       "      <td>30946</td>\n",
       "      <td>10</td>\n",
       "      <td>71</td>\n",
       "      <td>5</td>\n",
       "    </tr>\n",
       "    <tr>\n",
       "      <th>2</th>\n",
       "      <td>2</td>\n",
       "      <td>231033130220100</td>\n",
       "      <td>158905</td>\n",
       "      <td>142679</td>\n",
       "      <td>14</td>\n",
       "      <td>8</td>\n",
       "      <td>6</td>\n",
       "    </tr>\n",
       "    <tr>\n",
       "      <th>3</th>\n",
       "      <td>3</td>\n",
       "      <td>233102110002012</td>\n",
       "      <td>25166</td>\n",
       "      <td>5245</td>\n",
       "      <td>54</td>\n",
       "      <td>351</td>\n",
       "      <td>42</td>\n",
       "    </tr>\n",
       "    <tr>\n",
       "      <th>4</th>\n",
       "      <td>4</td>\n",
       "      <td>231322223022233</td>\n",
       "      <td>19321</td>\n",
       "      <td>6858</td>\n",
       "      <td>47</td>\n",
       "      <td>110</td>\n",
       "      <td>21</td>\n",
       "    </tr>\n",
       "    <tr>\n",
       "      <th>...</th>\n",
       "      <td>...</td>\n",
       "      <td>...</td>\n",
       "      <td>...</td>\n",
       "      <td>...</td>\n",
       "      <td>...</td>\n",
       "      <td>...</td>\n",
       "      <td>...</td>\n",
       "    </tr>\n",
       "    <tr>\n",
       "      <th>4857530</th>\n",
       "      <td>4857530</td>\n",
       "      <td>313310112001012</td>\n",
       "      <td>6394</td>\n",
       "      <td>16862</td>\n",
       "      <td>47</td>\n",
       "      <td>1</td>\n",
       "      <td>1</td>\n",
       "    </tr>\n",
       "    <tr>\n",
       "      <th>4857531</th>\n",
       "      <td>4857531</td>\n",
       "      <td>302222221230222</td>\n",
       "      <td>6989</td>\n",
       "      <td>3873</td>\n",
       "      <td>16</td>\n",
       "      <td>1</td>\n",
       "      <td>1</td>\n",
       "    </tr>\n",
       "    <tr>\n",
       "      <th>4857532</th>\n",
       "      <td>4857532</td>\n",
       "      <td>1230230230001100</td>\n",
       "      <td>43289</td>\n",
       "      <td>13155</td>\n",
       "      <td>4</td>\n",
       "      <td>1</td>\n",
       "      <td>1</td>\n",
       "    </tr>\n",
       "    <tr>\n",
       "      <th>4857533</th>\n",
       "      <td>4857533</td>\n",
       "      <td>213012022330221</td>\n",
       "      <td>22846</td>\n",
       "      <td>2002</td>\n",
       "      <td>34</td>\n",
       "      <td>1</td>\n",
       "      <td>1</td>\n",
       "    </tr>\n",
       "    <tr>\n",
       "      <th>4857534</th>\n",
       "      <td>4857534</td>\n",
       "      <td>1202032313020013</td>\n",
       "      <td>9220</td>\n",
       "      <td>2890</td>\n",
       "      <td>31</td>\n",
       "      <td>1</td>\n",
       "      <td>1</td>\n",
       "    </tr>\n",
       "  </tbody>\n",
       "</table>\n",
       "<p>4857535 rows × 7 columns</p>\n",
       "</div>"
      ],
      "text/plain": [
       "         Unnamed: 0           quadkey  avg_d_kbps  avg_u_kbps  avg_lat_ms  \\\n",
       "0                 0  3112231122203110       37621       18081          13   \n",
       "1                 1   231123033301330      165881       30946          10   \n",
       "2                 2   231033130220100      158905      142679          14   \n",
       "3                 3   233102110002012       25166        5245          54   \n",
       "4                 4   231322223022233       19321        6858          47   \n",
       "...             ...               ...         ...         ...         ...   \n",
       "4857530     4857530   313310112001012        6394       16862          47   \n",
       "4857531     4857531   302222221230222        6989        3873          16   \n",
       "4857532     4857532  1230230230001100       43289       13155           4   \n",
       "4857533     4857533   213012022330221       22846        2002          34   \n",
       "4857534     4857534  1202032313020013        9220        2890          31   \n",
       "\n",
       "         tests  devices  \n",
       "0          105       35  \n",
       "1           71        5  \n",
       "2            8        6  \n",
       "3          351       42  \n",
       "4          110       21  \n",
       "...        ...      ...  \n",
       "4857530      1        1  \n",
       "4857531      1        1  \n",
       "4857532      1        1  \n",
       "4857533      1        1  \n",
       "4857534      1        1  \n",
       "\n",
       "[4857535 rows x 7 columns]"
      ]
     },
     "execution_count": 13,
     "metadata": {},
     "output_type": "execute_result"
    }
   ],
   "source": [
    "df = pd.read_csv('/home/yasser/Desktop/mongodb/data/internet_data/2019/Q2/gps_fixed_tiles.csv')\n",
    "df"
   ]
  },
  {
   "cell_type": "code",
   "execution_count": 14,
   "metadata": {},
   "outputs": [
    {
     "data": {
      "text/html": [
       "<div>\n",
       "<style scoped>\n",
       "    .dataframe tbody tr th:only-of-type {\n",
       "        vertical-align: middle;\n",
       "    }\n",
       "\n",
       "    .dataframe tbody tr th {\n",
       "        vertical-align: top;\n",
       "    }\n",
       "\n",
       "    .dataframe thead th {\n",
       "        text-align: right;\n",
       "    }\n",
       "</style>\n",
       "<table border=\"1\" class=\"dataframe\">\n",
       "  <thead>\n",
       "    <tr style=\"text-align: right;\">\n",
       "      <th></th>\n",
       "      <th>Unnamed: 0</th>\n",
       "      <th>quadkey</th>\n",
       "      <th>avg_d_kbps</th>\n",
       "      <th>avg_u_kbps</th>\n",
       "      <th>avg_lat_ms</th>\n",
       "      <th>tests</th>\n",
       "      <th>devices</th>\n",
       "      <th>year</th>\n",
       "      <th>quarter</th>\n",
       "    </tr>\n",
       "  </thead>\n",
       "  <tbody>\n",
       "    <tr>\n",
       "      <th>0</th>\n",
       "      <td>0</td>\n",
       "      <td>3112231122203110</td>\n",
       "      <td>37621</td>\n",
       "      <td>18081</td>\n",
       "      <td>13</td>\n",
       "      <td>105</td>\n",
       "      <td>35</td>\n",
       "      <td>2019</td>\n",
       "      <td>Q2</td>\n",
       "    </tr>\n",
       "    <tr>\n",
       "      <th>1</th>\n",
       "      <td>1</td>\n",
       "      <td>231123033301330</td>\n",
       "      <td>165881</td>\n",
       "      <td>30946</td>\n",
       "      <td>10</td>\n",
       "      <td>71</td>\n",
       "      <td>5</td>\n",
       "      <td>2019</td>\n",
       "      <td>Q2</td>\n",
       "    </tr>\n",
       "    <tr>\n",
       "      <th>2</th>\n",
       "      <td>2</td>\n",
       "      <td>231033130220100</td>\n",
       "      <td>158905</td>\n",
       "      <td>142679</td>\n",
       "      <td>14</td>\n",
       "      <td>8</td>\n",
       "      <td>6</td>\n",
       "      <td>2019</td>\n",
       "      <td>Q2</td>\n",
       "    </tr>\n",
       "    <tr>\n",
       "      <th>3</th>\n",
       "      <td>3</td>\n",
       "      <td>233102110002012</td>\n",
       "      <td>25166</td>\n",
       "      <td>5245</td>\n",
       "      <td>54</td>\n",
       "      <td>351</td>\n",
       "      <td>42</td>\n",
       "      <td>2019</td>\n",
       "      <td>Q2</td>\n",
       "    </tr>\n",
       "    <tr>\n",
       "      <th>4</th>\n",
       "      <td>4</td>\n",
       "      <td>231322223022233</td>\n",
       "      <td>19321</td>\n",
       "      <td>6858</td>\n",
       "      <td>47</td>\n",
       "      <td>110</td>\n",
       "      <td>21</td>\n",
       "      <td>2019</td>\n",
       "      <td>Q2</td>\n",
       "    </tr>\n",
       "  </tbody>\n",
       "</table>\n",
       "</div>"
      ],
      "text/plain": [
       "   Unnamed: 0           quadkey  avg_d_kbps  avg_u_kbps  avg_lat_ms  tests  \\\n",
       "0           0  3112231122203110       37621       18081          13    105   \n",
       "1           1   231123033301330      165881       30946          10     71   \n",
       "2           2   231033130220100      158905      142679          14      8   \n",
       "3           3   233102110002012       25166        5245          54    351   \n",
       "4           4   231322223022233       19321        6858          47    110   \n",
       "\n",
       "   devices  year quarter  \n",
       "0       35  2019      Q2  \n",
       "1        5  2019      Q2  \n",
       "2        6  2019      Q2  \n",
       "3       42  2019      Q2  \n",
       "4       21  2019      Q2  "
      ]
     },
     "execution_count": 14,
     "metadata": {},
     "output_type": "execute_result"
    }
   ],
   "source": [
    "df[\"year\"] = \"2019\"\n",
    "df[\"quarter\"] = \"Q2\"\n",
    "df.head()"
   ]
  },
  {
   "cell_type": "code",
   "execution_count": 2,
   "metadata": {},
   "outputs": [],
   "source": [
    "client = MongoClient('localhost', 27017)\n",
    "db = client['project']"
   ]
  },
  {
   "cell_type": "code",
   "execution_count": 5,
   "metadata": {},
   "outputs": [
    {
     "name": "stdout",
     "output_type": "stream",
     "text": [
      "internetData\n",
      "solarData\n"
     ]
    }
   ],
   "source": [
    "# show collections\n",
    "\n",
    "for collection in db.list_collection_names():\n",
    "    print(collection)"
   ]
  },
  {
   "cell_type": "code",
   "execution_count": 15,
   "metadata": {},
   "outputs": [],
   "source": [
    "records = json.loads(df.T.to_json()).values()"
   ]
  },
  {
   "cell_type": "code",
   "execution_count": 16,
   "metadata": {},
   "outputs": [
    {
     "data": {
      "text/plain": [
       "<pymongo.results.InsertManyResult at 0x7fe00e81e910>"
      ]
     },
     "execution_count": 16,
     "metadata": {},
     "output_type": "execute_result"
    }
   ],
   "source": [
    "# INSERT DATA\n",
    "\n",
    "db.internetData.insert_many(records)"
   ]
  },
  {
   "cell_type": "code",
   "execution_count": 17,
   "metadata": {},
   "outputs": [
    {
     "name": "stdout",
     "output_type": "stream",
     "text": [
      "internetData\n",
      "solarData\n"
     ]
    }
   ],
   "source": [
    "# show collections\n",
    "\n",
    "for collection in db.list_collection_names():\n",
    "    print(collection)"
   ]
  },
  {
   "cell_type": "code",
   "execution_count": 18,
   "metadata": {},
   "outputs": [
    {
     "name": "stdout",
     "output_type": "stream",
     "text": [
      "{'_id': ObjectId('62cb3516d0eb9a592bc06b4e'), '#YYY': 1932.0, 'MM': 1.0, 'DD': 1.0, 'hh.h': 0.0, 'hh._m': 1.5, 'days': 0.0, 'days_m': 0.0625, 'Kp': 3.333, 'ap': 18.0, 'D': 1.0}\n",
      "{'_id': ObjectId('62cb3516d0eb9a592bc06b4f'), '#YYY': 1932.0, 'MM': 1.0, 'DD': 1.0, 'hh.h': 3.0, 'hh._m': 4.5, 'days': 0.125, 'days_m': 0.1875, 'Kp': 2.667, 'ap': 12.0, 'D': 1.0}\n",
      "{'_id': ObjectId('62cb3516d0eb9a592bc06b50'), '#YYY': 1932.0, 'MM': 1.0, 'DD': 1.0, 'hh.h': 6.0, 'hh._m': 7.5, 'days': 0.25, 'days_m': 0.3125, 'Kp': 2.333, 'ap': 9.0, 'D': 1.0}\n",
      "{'_id': ObjectId('62cb3516d0eb9a592bc06b51'), '#YYY': 1932.0, 'MM': 1.0, 'DD': 1.0, 'hh.h': 9.0, 'hh._m': 10.5, 'days': 0.375, 'days_m': 0.4375, 'Kp': 2.667, 'ap': 12.0, 'D': 1.0}\n",
      "{'_id': ObjectId('62cb3516d0eb9a592bc06b52'), '#YYY': 1932.0, 'MM': 1.0, 'DD': 1.0, 'hh.h': 12.0, 'hh._m': 13.5, 'days': 0.5, 'days_m': 0.5625, 'Kp': 3.333, 'ap': 18.0, 'D': 1.0}\n",
      "{'_id': ObjectId('62cb3516d0eb9a592bc06b53'), '#YYY': 1932.0, 'MM': 1.0, 'DD': 1.0, 'hh.h': 15.0, 'hh._m': 16.5, 'days': 0.625, 'days_m': 0.6875, 'Kp': 2.667, 'ap': 12.0, 'D': 1.0}\n",
      "{'_id': ObjectId('62cb3516d0eb9a592bc06b54'), '#YYY': 1932.0, 'MM': 1.0, 'DD': 1.0, 'hh.h': 18.0, 'hh._m': 19.5, 'days': 0.75, 'days_m': 0.8125, 'Kp': 3.333, 'ap': 18.0, 'D': 1.0}\n",
      "{'_id': ObjectId('62cb3516d0eb9a592bc06b55'), '#YYY': 1932.0, 'MM': 1.0, 'DD': 1.0, 'hh.h': 21.0, 'hh._m': 22.5, 'days': 0.875, 'days_m': 0.9375, 'Kp': 3.333, 'ap': 18.0, 'D': 1.0}\n",
      "{'_id': ObjectId('62cb3516d0eb9a592bc06b56'), '#YYY': 1932.0, 'MM': 1.0, 'DD': 2.0, 'hh.h': 0.0, 'hh._m': 1.5, 'days': 1.0, 'days_m': 1.0625, 'Kp': 3.667, 'ap': 22.0, 'D': 1.0}\n",
      "{'_id': ObjectId('62cb3516d0eb9a592bc06b57'), '#YYY': 1932.0, 'MM': 1.0, 'DD': 2.0, 'hh.h': 3.0, 'hh._m': 4.5, 'days': 1.125, 'days_m': 1.1875, 'Kp': 3.667, 'ap': 22.0, 'D': 1.0}\n"
     ]
    }
   ],
   "source": [
    "for i in db.solarData.find()[:10]:\n",
    "    print(i)"
   ]
  },
  {
   "cell_type": "code",
   "execution_count": null,
   "metadata": {},
   "outputs": [],
   "source": []
  },
  {
   "cell_type": "markdown",
   "metadata": {},
   "source": [
    "### 2021"
   ]
  },
  {
   "cell_type": "markdown",
   "metadata": {},
   "source": [
    "### Q4"
   ]
  },
  {
   "cell_type": "code",
   "execution_count": null,
   "metadata": {},
   "outputs": [],
   "source": [
    "# dbf = Dbf5('/home/yasser/Desktop/mongodb/data/internet_data/2021_Q4/gps_fixed_tiles.dbf')\n",
    "# df = dbf.to_dataframe()\n",
    "# df"
   ]
  },
  {
   "cell_type": "code",
   "execution_count": null,
   "metadata": {},
   "outputs": [
    {
     "data": {
      "text/html": [
       "<div>\n",
       "<style scoped>\n",
       "    .dataframe tbody tr th:only-of-type {\n",
       "        vertical-align: middle;\n",
       "    }\n",
       "\n",
       "    .dataframe tbody tr th {\n",
       "        vertical-align: top;\n",
       "    }\n",
       "\n",
       "    .dataframe thead th {\n",
       "        text-align: right;\n",
       "    }\n",
       "</style>\n",
       "<table border=\"1\" class=\"dataframe\">\n",
       "  <thead>\n",
       "    <tr style=\"text-align: right;\">\n",
       "      <th></th>\n",
       "      <th>quadkey</th>\n",
       "      <th>avg_d_kbps</th>\n",
       "      <th>avg_u_kbps</th>\n",
       "      <th>avg_lat_ms</th>\n",
       "      <th>tests</th>\n",
       "      <th>devices</th>\n",
       "    </tr>\n",
       "  </thead>\n",
       "  <tbody>\n",
       "    <tr>\n",
       "      <th>0</th>\n",
       "      <td>231320210123321</td>\n",
       "      <td>74046</td>\n",
       "      <td>32753</td>\n",
       "      <td>6</td>\n",
       "      <td>242</td>\n",
       "      <td>89</td>\n",
       "    </tr>\n",
       "    <tr>\n",
       "      <th>1</th>\n",
       "      <td>1230233010101330</td>\n",
       "      <td>328943</td>\n",
       "      <td>187567</td>\n",
       "      <td>3</td>\n",
       "      <td>311</td>\n",
       "      <td>126</td>\n",
       "    </tr>\n",
       "    <tr>\n",
       "      <th>2</th>\n",
       "      <td>1200212220023121</td>\n",
       "      <td>251162</td>\n",
       "      <td>210434</td>\n",
       "      <td>3</td>\n",
       "      <td>4</td>\n",
       "      <td>2</td>\n",
       "    </tr>\n",
       "    <tr>\n",
       "      <th>3</th>\n",
       "      <td>2103111212110230</td>\n",
       "      <td>133577</td>\n",
       "      <td>48315</td>\n",
       "      <td>10</td>\n",
       "      <td>115</td>\n",
       "      <td>40</td>\n",
       "    </tr>\n",
       "    <tr>\n",
       "      <th>4</th>\n",
       "      <td>331103312103120</td>\n",
       "      <td>245009</td>\n",
       "      <td>190036</td>\n",
       "      <td>15</td>\n",
       "      <td>2</td>\n",
       "      <td>2</td>\n",
       "    </tr>\n",
       "    <tr>\n",
       "      <th>...</th>\n",
       "      <td>...</td>\n",
       "      <td>...</td>\n",
       "      <td>...</td>\n",
       "      <td>...</td>\n",
       "      <td>...</td>\n",
       "      <td>...</td>\n",
       "    </tr>\n",
       "    <tr>\n",
       "      <th>6699834</th>\n",
       "      <td>2101113131322130</td>\n",
       "      <td>5853</td>\n",
       "      <td>10442</td>\n",
       "      <td>2</td>\n",
       "      <td>1</td>\n",
       "      <td>1</td>\n",
       "    </tr>\n",
       "    <tr>\n",
       "      <th>6699835</th>\n",
       "      <td>303301203232311</td>\n",
       "      <td>347506</td>\n",
       "      <td>16393</td>\n",
       "      <td>36</td>\n",
       "      <td>1</td>\n",
       "      <td>1</td>\n",
       "    </tr>\n",
       "    <tr>\n",
       "      <th>6699836</th>\n",
       "      <td>322113020330111</td>\n",
       "      <td>19728</td>\n",
       "      <td>3020</td>\n",
       "      <td>2</td>\n",
       "      <td>1</td>\n",
       "      <td>1</td>\n",
       "    </tr>\n",
       "    <tr>\n",
       "      <th>6699837</th>\n",
       "      <td>1321021202002001</td>\n",
       "      <td>151870</td>\n",
       "      <td>33688</td>\n",
       "      <td>24</td>\n",
       "      <td>1</td>\n",
       "      <td>1</td>\n",
       "    </tr>\n",
       "    <tr>\n",
       "      <th>6699838</th>\n",
       "      <td>3101020223230012</td>\n",
       "      <td>2581</td>\n",
       "      <td>730</td>\n",
       "      <td>18</td>\n",
       "      <td>1</td>\n",
       "      <td>1</td>\n",
       "    </tr>\n",
       "  </tbody>\n",
       "</table>\n",
       "<p>6699839 rows × 6 columns</p>\n",
       "</div>"
      ],
      "text/plain": [
       "                  quadkey  avg_d_kbps  avg_u_kbps  avg_lat_ms  tests  devices\n",
       "0         231320210123321       74046       32753           6    242       89\n",
       "1        1230233010101330      328943      187567           3    311      126\n",
       "2        1200212220023121      251162      210434           3      4        2\n",
       "3        2103111212110230      133577       48315          10    115       40\n",
       "4         331103312103120      245009      190036          15      2        2\n",
       "...                   ...         ...         ...         ...    ...      ...\n",
       "6699834  2101113131322130        5853       10442           2      1        1\n",
       "6699835   303301203232311      347506       16393          36      1        1\n",
       "6699836   322113020330111       19728        3020           2      1        1\n",
       "6699837  1321021202002001      151870       33688          24      1        1\n",
       "6699838  3101020223230012        2581         730          18      1        1\n",
       "\n",
       "[6699839 rows x 6 columns]"
      ]
     },
     "metadata": {},
     "output_type": "display_data"
    }
   ],
   "source": [
    "df = pd.read_csv('/home/yasser/Desktop/mongodb/data/internet_data/2021_Q4/gps_fixed_tiles.csv')\n",
    "df"
   ]
  },
  {
   "cell_type": "code",
   "execution_count": null,
   "metadata": {},
   "outputs": [
    {
     "data": {
      "text/html": [
       "<div>\n",
       "<style scoped>\n",
       "    .dataframe tbody tr th:only-of-type {\n",
       "        vertical-align: middle;\n",
       "    }\n",
       "\n",
       "    .dataframe tbody tr th {\n",
       "        vertical-align: top;\n",
       "    }\n",
       "\n",
       "    .dataframe thead th {\n",
       "        text-align: right;\n",
       "    }\n",
       "</style>\n",
       "<table border=\"1\" class=\"dataframe\">\n",
       "  <thead>\n",
       "    <tr style=\"text-align: right;\">\n",
       "      <th></th>\n",
       "      <th>quadkey</th>\n",
       "      <th>avg_d_kbps</th>\n",
       "      <th>avg_u_kbps</th>\n",
       "      <th>avg_lat_ms</th>\n",
       "      <th>tests</th>\n",
       "      <th>devices</th>\n",
       "      <th>year</th>\n",
       "      <th>quarter</th>\n",
       "    </tr>\n",
       "  </thead>\n",
       "  <tbody>\n",
       "    <tr>\n",
       "      <th>0</th>\n",
       "      <td>231320210123321</td>\n",
       "      <td>74046</td>\n",
       "      <td>32753</td>\n",
       "      <td>6</td>\n",
       "      <td>242</td>\n",
       "      <td>89</td>\n",
       "      <td>2021</td>\n",
       "      <td>Q4</td>\n",
       "    </tr>\n",
       "    <tr>\n",
       "      <th>1</th>\n",
       "      <td>1230233010101330</td>\n",
       "      <td>328943</td>\n",
       "      <td>187567</td>\n",
       "      <td>3</td>\n",
       "      <td>311</td>\n",
       "      <td>126</td>\n",
       "      <td>2021</td>\n",
       "      <td>Q4</td>\n",
       "    </tr>\n",
       "    <tr>\n",
       "      <th>2</th>\n",
       "      <td>1200212220023121</td>\n",
       "      <td>251162</td>\n",
       "      <td>210434</td>\n",
       "      <td>3</td>\n",
       "      <td>4</td>\n",
       "      <td>2</td>\n",
       "      <td>2021</td>\n",
       "      <td>Q4</td>\n",
       "    </tr>\n",
       "    <tr>\n",
       "      <th>3</th>\n",
       "      <td>2103111212110230</td>\n",
       "      <td>133577</td>\n",
       "      <td>48315</td>\n",
       "      <td>10</td>\n",
       "      <td>115</td>\n",
       "      <td>40</td>\n",
       "      <td>2021</td>\n",
       "      <td>Q4</td>\n",
       "    </tr>\n",
       "    <tr>\n",
       "      <th>4</th>\n",
       "      <td>331103312103120</td>\n",
       "      <td>245009</td>\n",
       "      <td>190036</td>\n",
       "      <td>15</td>\n",
       "      <td>2</td>\n",
       "      <td>2</td>\n",
       "      <td>2021</td>\n",
       "      <td>Q4</td>\n",
       "    </tr>\n",
       "  </tbody>\n",
       "</table>\n",
       "</div>"
      ],
      "text/plain": [
       "            quadkey  avg_d_kbps  avg_u_kbps  avg_lat_ms  tests  devices  year  \\\n",
       "0   231320210123321       74046       32753           6    242       89  2021   \n",
       "1  1230233010101330      328943      187567           3    311      126  2021   \n",
       "2  1200212220023121      251162      210434           3      4        2  2021   \n",
       "3  2103111212110230      133577       48315          10    115       40  2021   \n",
       "4   331103312103120      245009      190036          15      2        2  2021   \n",
       "\n",
       "  quarter  \n",
       "0      Q4  \n",
       "1      Q4  \n",
       "2      Q4  \n",
       "3      Q4  \n",
       "4      Q4  "
      ]
     },
     "metadata": {},
     "output_type": "display_data"
    }
   ],
   "source": [
    "df[\"year\"] = \"2021\"\n",
    "df[\"quarter\"] = \"Q4\"\n",
    "df.head()"
   ]
  },
  {
   "cell_type": "code",
   "execution_count": null,
   "metadata": {},
   "outputs": [
    {
     "name": "stdout",
     "output_type": "stream",
     "text": [
      "internetData\n",
      "kpdata\n"
     ]
    }
   ],
   "source": [
    "# show collections\n",
    "\n",
    "for collection in db.list_collection_names():\n",
    "    print(collection)"
   ]
  },
  {
   "cell_type": "code",
   "execution_count": null,
   "metadata": {},
   "outputs": [],
   "source": [
    "records = json.loads(df.T.to_json()).values()"
   ]
  },
  {
   "cell_type": "code",
   "execution_count": null,
   "metadata": {},
   "outputs": [
    {
     "data": {
      "text/plain": [
       "<pymongo.results.InsertManyResult at 0x7f1fcd2dd310>"
      ]
     },
     "metadata": {},
     "output_type": "display_data"
    }
   ],
   "source": [
    "# INSERT DATA\n",
    "\n",
    "db.internetData.insert_many(records)"
   ]
  },
  {
   "cell_type": "code",
   "execution_count": null,
   "metadata": {},
   "outputs": [
    {
     "name": "stdout",
     "output_type": "stream",
     "text": [
      "internetData\n",
      "kpdata\n"
     ]
    }
   ],
   "source": [
    "# show collections\n",
    "\n",
    "for collection in db.list_collection_names():\n",
    "    print(collection)"
   ]
  },
  {
   "cell_type": "code",
   "execution_count": null,
   "metadata": {},
   "outputs": [
    {
     "name": "stdout",
     "output_type": "stream",
     "text": [
      "{'_id': ObjectId('62cb0b1d23802562df01925d'), 'quadkey': 1233001311211132, 'avg_d_kbps': 1366, 'avg_u_kbps': 2670, 'avg_lat_ms': 148, 'tests': 2, 'devices': 1, 'year': '2019', 'quarter': 'Q4'}\n",
      "{'_id': ObjectId('62cb0b1d23802562df01925e'), 'quadkey': 302233203001130, 'avg_d_kbps': 66841, 'avg_u_kbps': 14428, 'avg_lat_ms': 16, 'tests': 9, 'devices': 7, 'year': '2019', 'quarter': 'Q4'}\n",
      "{'_id': ObjectId('62cb0b1d23802562df01925f'), 'quadkey': 1202331003213123, 'avg_d_kbps': 29640, 'avg_u_kbps': 8188, 'avg_lat_ms': 11, 'tests': 73, 'devices': 18, 'year': '2019', 'quarter': 'Q4'}\n",
      "{'_id': ObjectId('62cb0b1d23802562df019260'), 'quadkey': 1202222203310201, 'avg_d_kbps': 87822, 'avg_u_kbps': 72288, 'avg_lat_ms': 16, 'tests': 145, 'devices': 50, 'year': '2019', 'quarter': 'Q4'}\n",
      "{'_id': ObjectId('62cb0b1d23802562df019261'), 'quadkey': 1230231321100322, 'avg_d_kbps': 81507, 'avg_u_kbps': 36989, 'avg_lat_ms': 7, 'tests': 329, 'devices': 75, 'year': '2019', 'quarter': 'Q4'}\n",
      "{'_id': ObjectId('62cb0b1d23802562df019262'), 'quadkey': 313131132333211, 'avg_d_kbps': 88027, 'avg_u_kbps': 14570, 'avg_lat_ms': 15, 'tests': 132, 'devices': 29, 'year': '2019', 'quarter': 'Q4'}\n",
      "{'_id': ObjectId('62cb0b1d23802562df019263'), 'quadkey': 1212011313021021, 'avg_d_kbps': 52635, 'avg_u_kbps': 70367, 'avg_lat_ms': 4, 'tests': 45, 'devices': 11, 'year': '2019', 'quarter': 'Q4'}\n",
      "{'_id': ObjectId('62cb0b1d23802562df019264'), 'quadkey': 1322101132232101, 'avg_d_kbps': 28434, 'avg_u_kbps': 30454, 'avg_lat_ms': 7, 'tests': 2, 'devices': 2, 'year': '2019', 'quarter': 'Q4'}\n",
      "{'_id': ObjectId('62cb0b1d23802562df019265'), 'quadkey': 2110012030231232, 'avg_d_kbps': 31759, 'avg_u_kbps': 26507, 'avg_lat_ms': 8, 'tests': 761, 'devices': 128, 'year': '2019', 'quarter': 'Q4'}\n",
      "{'_id': ObjectId('62cb0b1d23802562df019266'), 'quadkey': 233100032212231, 'avg_d_kbps': 35125, 'avg_u_kbps': 12790, 'avg_lat_ms': 29, 'tests': 332, 'devices': 39, 'year': '2019', 'quarter': 'Q4'}\n"
     ]
    }
   ],
   "source": [
    "for i in db.internetData.find()[:10]:\n",
    "    print(i)"
   ]
  },
  {
   "cell_type": "code",
   "execution_count": null,
   "metadata": {},
   "outputs": [],
   "source": []
  },
  {
   "cell_type": "markdown",
   "metadata": {},
   "source": [
    "### Q1"
   ]
  },
  {
   "cell_type": "code",
   "execution_count": 1,
   "metadata": {},
   "outputs": [],
   "source": [
    "# dbf = Dbf5('/home/yasser/Desktop/mongodb/data/internet_data/2021/Q1/gps_fixed_tiles.dbf')\n",
    "# df = dbf.to_dataframe()\n",
    "# df"
   ]
  },
  {
   "cell_type": "code",
   "execution_count": 2,
   "metadata": {},
   "outputs": [],
   "source": [
    "# df.to_csv('/home/yasser/Desktop/mongodb/data/internet_data/2021/Q1/gps_fixed_tiles.csv')"
   ]
  },
  {
   "cell_type": "code",
   "execution_count": 5,
   "metadata": {},
   "outputs": [
    {
     "data": {
      "text/html": [
       "<div>\n",
       "<style scoped>\n",
       "    .dataframe tbody tr th:only-of-type {\n",
       "        vertical-align: middle;\n",
       "    }\n",
       "\n",
       "    .dataframe tbody tr th {\n",
       "        vertical-align: top;\n",
       "    }\n",
       "\n",
       "    .dataframe thead th {\n",
       "        text-align: right;\n",
       "    }\n",
       "</style>\n",
       "<table border=\"1\" class=\"dataframe\">\n",
       "  <thead>\n",
       "    <tr style=\"text-align: right;\">\n",
       "      <th></th>\n",
       "      <th>quadkey</th>\n",
       "      <th>avg_d_kbps</th>\n",
       "      <th>avg_u_kbps</th>\n",
       "      <th>avg_lat_ms</th>\n",
       "      <th>tests</th>\n",
       "      <th>devices</th>\n",
       "    </tr>\n",
       "  </thead>\n",
       "  <tbody>\n",
       "    <tr>\n",
       "      <th>0</th>\n",
       "      <td>3112231211112221</td>\n",
       "      <td>30246</td>\n",
       "      <td>14149</td>\n",
       "      <td>10</td>\n",
       "      <td>49</td>\n",
       "      <td>16</td>\n",
       "    </tr>\n",
       "    <tr>\n",
       "      <th>1</th>\n",
       "      <td>1321222320312202</td>\n",
       "      <td>232361</td>\n",
       "      <td>225471</td>\n",
       "      <td>4</td>\n",
       "      <td>1029</td>\n",
       "      <td>260</td>\n",
       "    </tr>\n",
       "    <tr>\n",
       "      <th>2</th>\n",
       "      <td>313113232023121</td>\n",
       "      <td>95299</td>\n",
       "      <td>15138</td>\n",
       "      <td>12</td>\n",
       "      <td>96</td>\n",
       "      <td>20</td>\n",
       "    </tr>\n",
       "    <tr>\n",
       "      <th>3</th>\n",
       "      <td>1202212030113301</td>\n",
       "      <td>204895</td>\n",
       "      <td>69600</td>\n",
       "      <td>7</td>\n",
       "      <td>40</td>\n",
       "      <td>15</td>\n",
       "    </tr>\n",
       "    <tr>\n",
       "      <th>4</th>\n",
       "      <td>1233013312311330</td>\n",
       "      <td>53680</td>\n",
       "      <td>51232</td>\n",
       "      <td>8</td>\n",
       "      <td>758</td>\n",
       "      <td>265</td>\n",
       "    </tr>\n",
       "    <tr>\n",
       "      <th>...</th>\n",
       "      <td>...</td>\n",
       "      <td>...</td>\n",
       "      <td>...</td>\n",
       "      <td>...</td>\n",
       "      <td>...</td>\n",
       "      <td>...</td>\n",
       "    </tr>\n",
       "    <tr>\n",
       "      <th>6642745</th>\n",
       "      <td>1323031223133233</td>\n",
       "      <td>1852</td>\n",
       "      <td>1805</td>\n",
       "      <td>5</td>\n",
       "      <td>1</td>\n",
       "      <td>1</td>\n",
       "    </tr>\n",
       "    <tr>\n",
       "      <th>6642746</th>\n",
       "      <td>213313333202231</td>\n",
       "      <td>65546</td>\n",
       "      <td>59114</td>\n",
       "      <td>17</td>\n",
       "      <td>1</td>\n",
       "      <td>1</td>\n",
       "    </tr>\n",
       "    <tr>\n",
       "      <th>6642747</th>\n",
       "      <td>1321230021332230</td>\n",
       "      <td>66876</td>\n",
       "      <td>19995</td>\n",
       "      <td>14</td>\n",
       "      <td>2</td>\n",
       "      <td>1</td>\n",
       "    </tr>\n",
       "    <tr>\n",
       "      <th>6642748</th>\n",
       "      <td>1320331332100310</td>\n",
       "      <td>3969</td>\n",
       "      <td>38681</td>\n",
       "      <td>61</td>\n",
       "      <td>1</td>\n",
       "      <td>1</td>\n",
       "    </tr>\n",
       "    <tr>\n",
       "      <th>6642749</th>\n",
       "      <td>320030322103031</td>\n",
       "      <td>211665</td>\n",
       "      <td>11134</td>\n",
       "      <td>21</td>\n",
       "      <td>1</td>\n",
       "      <td>1</td>\n",
       "    </tr>\n",
       "  </tbody>\n",
       "</table>\n",
       "<p>6642750 rows × 6 columns</p>\n",
       "</div>"
      ],
      "text/plain": [
       "                  quadkey  avg_d_kbps  avg_u_kbps  avg_lat_ms  tests  devices\n",
       "0        3112231211112221       30246       14149          10     49       16\n",
       "1        1321222320312202      232361      225471           4   1029      260\n",
       "2         313113232023121       95299       15138          12     96       20\n",
       "3        1202212030113301      204895       69600           7     40       15\n",
       "4        1233013312311330       53680       51232           8    758      265\n",
       "...                   ...         ...         ...         ...    ...      ...\n",
       "6642745  1323031223133233        1852        1805           5      1        1\n",
       "6642746   213313333202231       65546       59114          17      1        1\n",
       "6642747  1321230021332230       66876       19995          14      2        1\n",
       "6642748  1320331332100310        3969       38681          61      1        1\n",
       "6642749   320030322103031      211665       11134          21      1        1\n",
       "\n",
       "[6642750 rows x 6 columns]"
      ]
     },
     "execution_count": 5,
     "metadata": {},
     "output_type": "execute_result"
    }
   ],
   "source": [
    "df = pd.read_csv('/home/yasser/Desktop/mongodb/data/internet_data/2021/Q1/gps_fixed_tiles.csv')\n",
    "df"
   ]
  },
  {
   "cell_type": "code",
   "execution_count": 6,
   "metadata": {},
   "outputs": [
    {
     "data": {
      "text/html": [
       "<div>\n",
       "<style scoped>\n",
       "    .dataframe tbody tr th:only-of-type {\n",
       "        vertical-align: middle;\n",
       "    }\n",
       "\n",
       "    .dataframe tbody tr th {\n",
       "        vertical-align: top;\n",
       "    }\n",
       "\n",
       "    .dataframe thead th {\n",
       "        text-align: right;\n",
       "    }\n",
       "</style>\n",
       "<table border=\"1\" class=\"dataframe\">\n",
       "  <thead>\n",
       "    <tr style=\"text-align: right;\">\n",
       "      <th></th>\n",
       "      <th>quadkey</th>\n",
       "      <th>avg_d_kbps</th>\n",
       "      <th>avg_u_kbps</th>\n",
       "      <th>avg_lat_ms</th>\n",
       "      <th>tests</th>\n",
       "      <th>devices</th>\n",
       "      <th>year</th>\n",
       "      <th>quarter</th>\n",
       "    </tr>\n",
       "  </thead>\n",
       "  <tbody>\n",
       "    <tr>\n",
       "      <th>0</th>\n",
       "      <td>3112231211112221</td>\n",
       "      <td>30246</td>\n",
       "      <td>14149</td>\n",
       "      <td>10</td>\n",
       "      <td>49</td>\n",
       "      <td>16</td>\n",
       "      <td>2021</td>\n",
       "      <td>Q1</td>\n",
       "    </tr>\n",
       "    <tr>\n",
       "      <th>1</th>\n",
       "      <td>1321222320312202</td>\n",
       "      <td>232361</td>\n",
       "      <td>225471</td>\n",
       "      <td>4</td>\n",
       "      <td>1029</td>\n",
       "      <td>260</td>\n",
       "      <td>2021</td>\n",
       "      <td>Q1</td>\n",
       "    </tr>\n",
       "    <tr>\n",
       "      <th>2</th>\n",
       "      <td>313113232023121</td>\n",
       "      <td>95299</td>\n",
       "      <td>15138</td>\n",
       "      <td>12</td>\n",
       "      <td>96</td>\n",
       "      <td>20</td>\n",
       "      <td>2021</td>\n",
       "      <td>Q1</td>\n",
       "    </tr>\n",
       "    <tr>\n",
       "      <th>3</th>\n",
       "      <td>1202212030113301</td>\n",
       "      <td>204895</td>\n",
       "      <td>69600</td>\n",
       "      <td>7</td>\n",
       "      <td>40</td>\n",
       "      <td>15</td>\n",
       "      <td>2021</td>\n",
       "      <td>Q1</td>\n",
       "    </tr>\n",
       "    <tr>\n",
       "      <th>4</th>\n",
       "      <td>1233013312311330</td>\n",
       "      <td>53680</td>\n",
       "      <td>51232</td>\n",
       "      <td>8</td>\n",
       "      <td>758</td>\n",
       "      <td>265</td>\n",
       "      <td>2021</td>\n",
       "      <td>Q1</td>\n",
       "    </tr>\n",
       "  </tbody>\n",
       "</table>\n",
       "</div>"
      ],
      "text/plain": [
       "            quadkey  avg_d_kbps  avg_u_kbps  avg_lat_ms  tests  devices  year  \\\n",
       "0  3112231211112221       30246       14149          10     49       16  2021   \n",
       "1  1321222320312202      232361      225471           4   1029      260  2021   \n",
       "2   313113232023121       95299       15138          12     96       20  2021   \n",
       "3  1202212030113301      204895       69600           7     40       15  2021   \n",
       "4  1233013312311330       53680       51232           8    758      265  2021   \n",
       "\n",
       "  quarter  \n",
       "0      Q1  \n",
       "1      Q1  \n",
       "2      Q1  \n",
       "3      Q1  \n",
       "4      Q1  "
      ]
     },
     "execution_count": 6,
     "metadata": {},
     "output_type": "execute_result"
    }
   ],
   "source": [
    "df[\"year\"] = \"2021\"\n",
    "df[\"quarter\"] = \"Q1\"\n",
    "df.head()"
   ]
  },
  {
   "cell_type": "code",
   "execution_count": 7,
   "metadata": {},
   "outputs": [
    {
     "name": "stdout",
     "output_type": "stream",
     "text": [
      "internetData\n",
      "solarData\n"
     ]
    }
   ],
   "source": [
    "# show collections\n",
    "\n",
    "for collection in db.list_collection_names():\n",
    "    print(collection)"
   ]
  },
  {
   "cell_type": "code",
   "execution_count": 8,
   "metadata": {},
   "outputs": [],
   "source": [
    "records = json.loads(df.T.to_json()).values()"
   ]
  },
  {
   "cell_type": "code",
   "execution_count": 9,
   "metadata": {},
   "outputs": [
    {
     "data": {
      "text/plain": [
       "<pymongo.results.InsertManyResult at 0x7f62faf24d90>"
      ]
     },
     "execution_count": 9,
     "metadata": {},
     "output_type": "execute_result"
    }
   ],
   "source": [
    "# INSERT DATA\n",
    "\n",
    "db.internetData.insert_many(records)"
   ]
  },
  {
   "cell_type": "code",
   "execution_count": 10,
   "metadata": {},
   "outputs": [
    {
     "name": "stdout",
     "output_type": "stream",
     "text": [
      "internetData\n",
      "solarData\n"
     ]
    }
   ],
   "source": [
    "# show collections\n",
    "\n",
    "for collection in db.list_collection_names():\n",
    "    print(collection)"
   ]
  },
  {
   "cell_type": "code",
   "execution_count": 11,
   "metadata": {},
   "outputs": [
    {
     "name": "stdout",
     "output_type": "stream",
     "text": [
      "{'_id': ObjectId('62cb0b1d23802562df01925d'), 'quadkey': 1233001311211132, 'avg_d_kbps': 1366, 'avg_u_kbps': 2670, 'avg_lat_ms': 148, 'tests': 2, 'devices': 1, 'year': '2019', 'quarter': 'Q4'}\n",
      "{'_id': ObjectId('62cb0b1d23802562df01925e'), 'quadkey': 302233203001130, 'avg_d_kbps': 66841, 'avg_u_kbps': 14428, 'avg_lat_ms': 16, 'tests': 9, 'devices': 7, 'year': '2019', 'quarter': 'Q4'}\n",
      "{'_id': ObjectId('62cb0b1d23802562df01925f'), 'quadkey': 1202331003213123, 'avg_d_kbps': 29640, 'avg_u_kbps': 8188, 'avg_lat_ms': 11, 'tests': 73, 'devices': 18, 'year': '2019', 'quarter': 'Q4'}\n",
      "{'_id': ObjectId('62cb0b1d23802562df019260'), 'quadkey': 1202222203310201, 'avg_d_kbps': 87822, 'avg_u_kbps': 72288, 'avg_lat_ms': 16, 'tests': 145, 'devices': 50, 'year': '2019', 'quarter': 'Q4'}\n",
      "{'_id': ObjectId('62cb0b1d23802562df019261'), 'quadkey': 1230231321100322, 'avg_d_kbps': 81507, 'avg_u_kbps': 36989, 'avg_lat_ms': 7, 'tests': 329, 'devices': 75, 'year': '2019', 'quarter': 'Q4'}\n",
      "{'_id': ObjectId('62cb0b1d23802562df019262'), 'quadkey': 313131132333211, 'avg_d_kbps': 88027, 'avg_u_kbps': 14570, 'avg_lat_ms': 15, 'tests': 132, 'devices': 29, 'year': '2019', 'quarter': 'Q4'}\n",
      "{'_id': ObjectId('62cb0b1d23802562df019263'), 'quadkey': 1212011313021021, 'avg_d_kbps': 52635, 'avg_u_kbps': 70367, 'avg_lat_ms': 4, 'tests': 45, 'devices': 11, 'year': '2019', 'quarter': 'Q4'}\n",
      "{'_id': ObjectId('62cb0b1d23802562df019264'), 'quadkey': 1322101132232101, 'avg_d_kbps': 28434, 'avg_u_kbps': 30454, 'avg_lat_ms': 7, 'tests': 2, 'devices': 2, 'year': '2019', 'quarter': 'Q4'}\n",
      "{'_id': ObjectId('62cb0b1d23802562df019265'), 'quadkey': 2110012030231232, 'avg_d_kbps': 31759, 'avg_u_kbps': 26507, 'avg_lat_ms': 8, 'tests': 761, 'devices': 128, 'year': '2019', 'quarter': 'Q4'}\n",
      "{'_id': ObjectId('62cb0b1d23802562df019266'), 'quadkey': 233100032212231, 'avg_d_kbps': 35125, 'avg_u_kbps': 12790, 'avg_lat_ms': 29, 'tests': 332, 'devices': 39, 'year': '2019', 'quarter': 'Q4'}\n"
     ]
    }
   ],
   "source": [
    "for i in db.internetData.find()[:10]:\n",
    "    print(i)"
   ]
  },
  {
   "cell_type": "code",
   "execution_count": null,
   "metadata": {},
   "outputs": [],
   "source": []
  }
 ],
 "metadata": {
  "kernelspec": {
   "display_name": "Python 3.9.7 64-bit",
   "language": "python",
   "name": "python3"
  },
  "language_info": {
   "codemirror_mode": {
    "name": "ipython",
    "version": 3
   },
   "file_extension": ".py",
   "mimetype": "text/x-python",
   "name": "python",
   "nbconvert_exporter": "python",
   "pygments_lexer": "ipython3",
   "version": "3.9.7"
  },
  "orig_nbformat": 4,
  "vscode": {
   "interpreter": {
    "hash": "4f58af7b3695201df0b4d01d2970eb15c6a084c1ad11c9268b240ea3e6dcf4ce"
   }
  }
 },
 "nbformat": 4,
 "nbformat_minor": 2
}
